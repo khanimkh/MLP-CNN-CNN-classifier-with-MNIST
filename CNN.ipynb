{
 "cells": [
  {
   "cell_type": "markdown",
   "metadata": {},
   "source": [
    "# CNN"
   ]
  },
  {
   "cell_type": "code",
   "execution_count": 9,
   "metadata": {},
   "outputs": [],
   "source": [
    "import torch\n",
    "import torchvision\n",
    "import torchvision.transforms as transforms\n",
    "import torch.nn as nn\n",
    "import torch.nn.functional as F\n",
    "import torch.optim as optim\n",
    "import torch.utils.data as data\n",
    "import numpy as np"
   ]
  },
  {
   "cell_type": "code",
   "execution_count": 10,
   "metadata": {},
   "outputs": [],
   "source": [
    "\n",
    "transform = transforms.Compose([\n",
    "    transforms.ToTensor(),\n",
    "    transforms.Normalize((0.5, 0.5, 0.5), (0.5, 0.5, 0.5))\n",
    "])\n",
    "\n",
    "trainset = torchvision.datasets.MNIST(\n",
    "    root=\"./data\", train=True, download=True, transform=transform)\n",
    "testset = torchvision.datasets.MNIST(\n",
    "    root=\"./data\", train=False, download=True, transform=transform)\n",
    "\n",
    "validation_split = 0.1\n",
    "split = int(np.floor(validation_split * len(trainset)))\n",
    "indices = list(range(len(trainset)))\n",
    "np.random.shuffle(indices)\n",
    "\n",
    "train_indices, valid_indices = indices[split:], indices[:split]\n",
    "train_sampler = data.SubsetRandomSampler(train_indices)\n",
    "valid_sampler = data.SubsetRandomSampler(valid_indices)\n",
    "\n",
    "trainloader = torch.utils.data.DataLoader(\n",
    "    trainset, batch_size=1, num_workers=4, sampler=train_sampler)\n",
    "validloader = torch.utils.data.DataLoader(\n",
    "    trainset, batch_size=1, num_workers=4, sampler=valid_sampler)\n",
    "testloader = torch.utils.data.DataLoader(\n",
    "    testset, batch_size=1, shuffle=False, num_workers=4)"
   ]
  },
  {
   "cell_type": "code",
   "execution_count": 8,
   "metadata": {},
   "outputs": [],
   "source": [
    "class Net(nn.Module):\n",
    "    def __init__(self):\n",
    "        super(Net, self).__init__()\n",
    "        self.conv1 = nn.Conv2d(\n",
    "            in_channels=1, out_channels=8, kernel_size=3, stride=1, padding=1)\n",
    "        self.pool1 = nn.MaxPool2d(2, 2)\n",
    "        self.conv2 = nn.Conv2d(\n",
    "            in_channels=8, out_channels=32, kernel_size=3, stride=1, padding=1)\n",
    "        self.pool2 = nn.MaxPool2d(2, 2)\n",
    "        self.conv3 = nn.Conv2d(\n",
    "            in_channels=32, out_channels=64, kernel_size=5, stride=1, padding=1)\n",
    "        self.fc1 = nn.Linear(64 * 5 * 5, 200)\n",
    "        self.fc2 = nn.Linear(200, 10)\n",
    "\n",
    "    def forward(self, x):\n",
    "        x = self.pool1(F.relu(self.conv1(x)))\n",
    "        x = self.pool2(F.relu(self.conv2(x)))\n",
    "        x = F.relu(self.conv3(x))\n",
    "        x = x.view(-1, 64 * 5 * 5)\n",
    "        x = F.relu(self.fc1(x))\n",
    "        x = self.fc2(x)\n",
    "        return x\n",
    "\n",
    "    def evaluate(self, loader):\n",
    "        with torch.no_grad():\n",
    "            correct, total = 0, 0\n",
    "            for data in loader:\n",
    "                # get the inputs\n",
    "                inputs, labels = data\n",
    "                inputs, labels = inputs.to(device), labels.to(device)\n",
    "                outputs = self(inputs)\n",
    "                val_loss = criterion(outputs, labels)\n",
    "                _, predicted = torch.max(outputs.data, 1)\n",
    "                total += labels.size(0)\n",
    "                correct += (predicted == labels).sum().item()\n",
    "        return val_loss, correct / total"
   ]
  },
  {
   "cell_type": "code",
   "execution_count": 11,
   "metadata": {},
   "outputs": [
    {
     "name": "stdout",
     "output_type": "stream",
     "text": [
      "Let's use cpu\n"
     ]
    }
   ],
   "source": [
    "model = Net()\n",
    "device = torch.device(\"cuda:1\" if torch.cuda.is_available() else \"cpu\")\n",
    "model.to(device)\n",
    "print(\"Let\\'s use {}\".format(device))"
   ]
  },
  {
   "cell_type": "code",
   "execution_count": 12,
   "metadata": {},
   "outputs": [],
   "source": [
    "criterion = nn.CrossEntropyLoss()\n",
    "optimizer = optim.SGD(model.parameters(), lr=0.001)"
   ]
  },
  {
   "cell_type": "code",
   "execution_count": 6,
   "metadata": {},
   "outputs": [
    {
     "name": "stdout",
     "output_type": "stream",
     "text": [
      "epoch | train_loss | valid_loss | valid_acc \n",
      "    1 |      0.004 |      0.001 |      97.5%\tsaved!\n",
      "    2 |      0.000 |      0.000 |      98.1%\tsaved!\n",
      "    3 |      0.000 |      0.000 |      98.3%\tsaved!\n",
      "    4 |      0.000 |      0.000 |      98.4%\tsaved!\n",
      "    5 |      0.000 |      0.002 |      98.5%\tsaved!\n",
      "    6 |      0.000 |      0.000 |      98.7%\tsaved!\n",
      "    7 |      0.000 |      0.004 |      98.6%\n",
      "    8 |      0.000 |      0.000 |      98.6%\n",
      "    9 |      0.000 |      0.000 |      98.7%\n",
      "   10 |      0.000 |      0.000 |      98.9%\tsaved!\n"
     ]
    }
   ],
   "source": [
    "best_val_acc, train_loss, val_loss = -1, None, None\n",
    "print(\"{:5s} | {:10s} | {:10s} | {:10s}\".format(\"epoch\", \"train_loss\",\n",
    "                                                \"valid_loss\", \"valid_acc\"))\n",
    "for epoch in range(10):  # loop over the dataset multiple times\n",
    "    model.train()\n",
    "    for i, data in enumerate(trainloader, 1):\n",
    "        # get the inputs\n",
    "        inputs, labels = data\n",
    "        inputs, labels = inputs.to(device), labels.to(device)\n",
    "        # zero the parameter gradients\n",
    "        optimizer.zero_grad()\n",
    "        # forward + backward + optimize\n",
    "        outputs = model(inputs)\n",
    "        train_loss = criterion(outputs, labels)\n",
    "        train_loss.backward()\n",
    "        optimizer.step()\n",
    "    val_loss, val_acc = model.evaluate(validloader)\n",
    "    print(\n",
    "        \"\\r{:5d} | {:10.3f} | {:10.3f} | {:10.1%}\".format(\n",
    "            epoch + 1, train_loss.item(), val_loss.item(), val_acc),\n",
    "        end=\"\")\n",
    "    if val_acc > best_val_acc:\n",
    "        best_val_acc = val_acc\n",
    "        torch.save(model.state_dict(), \"best_model\")\n",
    "        print(\"\\tsaved!\", end=\"\")\n",
    "    print(\"\")\n",
    "model.load_state_dict(torch.load(\"best_model\"))"
   ]
  },
  {
   "cell_type": "code",
   "execution_count": 7,
   "metadata": {},
   "outputs": [
    {
     "name": "stdout",
     "output_type": "stream",
     "text": [
      "Accuracy of the model on the 10000 test images: 99.02%\n"
     ]
    }
   ],
   "source": [
    "print(\"Accuracy of the model on the 10000 test images: {:3.2%}\".format(\n",
    "    model.evaluate(testloader)[1]))"
   ]
  },
  {
   "cell_type": "code",
   "execution_count": null,
   "metadata": {},
   "outputs": [],
   "source": []
  }
 ],
 "metadata": {
  "kernelspec": {
   "display_name": "Python 3 (ipykernel)",
   "language": "python",
   "name": "python3"
  },
  "language_info": {
   "codemirror_mode": {
    "name": "ipython",
    "version": 3
   },
   "file_extension": ".py",
   "mimetype": "text/x-python",
   "name": "python",
   "nbconvert_exporter": "python",
   "pygments_lexer": "ipython3",
   "version": "3.12.2"
  }
 },
 "nbformat": 4,
 "nbformat_minor": 4
}
